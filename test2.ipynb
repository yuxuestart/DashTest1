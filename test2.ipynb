{
 "cells": [
  {
   "cell_type": "code",
   "execution_count": 1,
   "metadata": {},
   "outputs": [
    {
     "name": "stdout",
     "output_type": "stream",
     "text": [
      "Dash is running on http://127.0.0.1:8050/\n",
      "\n",
      " * Serving Flask app '__main__' (lazy loading)\n",
      " * Environment: production\n",
      "\u001b[31m   WARNING: This is a development server. Do not use it in a production deployment.\u001b[0m\n",
      "\u001b[2m   Use a production WSGI server instead.\u001b[0m\n",
      " * Debug mode: off\n"
     ]
    },
    {
     "name": "stderr",
     "output_type": "stream",
     "text": [
      " * Running on http://127.0.0.1:8050 (Press CTRL+C to quit)\n",
      "127.0.0.1 - - [02/May/2024 10:08:41] \"GET / HTTP/1.1\" 200 -\n",
      "127.0.0.1 - - [02/May/2024 10:08:41] \"GET /_dash-component-suites/dash/deps/polyfill@7.v2_5_1m1655210720.12.1.min.js HTTP/1.1\" 200 -\n",
      "127.0.0.1 - - [02/May/2024 10:08:41] \"GET /_dash-component-suites/dash/deps/react@16.v2_5_1m1655210720.14.0.min.js HTTP/1.1\" 200 -\n",
      "127.0.0.1 - - [02/May/2024 10:08:41] \"GET /_dash-component-suites/dash/deps/react-dom@16.v2_5_1m1655210720.14.0.min.js HTTP/1.1\" 200 -\n",
      "127.0.0.1 - - [02/May/2024 10:08:41] \"GET /_dash-component-suites/dash/deps/prop-types@15.v2_5_1m1655210720.8.1.min.js HTTP/1.1\" 200 -\n",
      "127.0.0.1 - - [02/May/2024 10:08:41] \"GET /_dash-component-suites/dash/dash-renderer/build/dash_renderer.v2_5_1m1655210720.min.js HTTP/1.1\" 200 -\n",
      "127.0.0.1 - - [02/May/2024 10:08:41] \"GET /_dash-component-suites/dash/dcc/dash_core_components.v2_5_0m1655210720.js HTTP/1.1\" 200 -\n",
      "127.0.0.1 - - [02/May/2024 10:08:41] \"GET /_dash-component-suites/dash/dcc/dash_core_components-shared.v2_5_0m1655210720.js HTTP/1.1\" 200 -\n",
      "127.0.0.1 - - [02/May/2024 10:08:41] \"GET /_dash-component-suites/dash/html/dash_html_components.v2_0_3m1655210720.min.js HTTP/1.1\" 200 -\n",
      "127.0.0.1 - - [02/May/2024 10:08:41] \"GET /_dash-component-suites/dash/dash_table/bundle.v5_1_3m1655210720.js HTTP/1.1\" 200 -\n",
      "127.0.0.1 - - [02/May/2024 10:08:42] \"GET /_dash-layout HTTP/1.1\" 200 -\n",
      "127.0.0.1 - - [02/May/2024 10:08:42] \"GET /_dash-dependencies HTTP/1.1\" 200 -\n",
      "127.0.0.1 - - [02/May/2024 10:08:42] \"GET /_dash-component-suites/dash/dash_table/async-highlight.js HTTP/1.1\" 200 -\n",
      "127.0.0.1 - - [02/May/2024 10:08:42] \"GET /_dash-component-suites/dash/dcc/async-graph.js HTTP/1.1\" 200 -\n",
      "127.0.0.1 - - [02/May/2024 10:08:42] \"GET /_dash-component-suites/dash/dash_table/async-table.js HTTP/1.1\" 200 -\n",
      "127.0.0.1 - - [02/May/2024 10:08:42] \"GET /_dash-component-suites/dash/dcc/async-plotlyjs.js HTTP/1.1\" 200 -\n",
      "127.0.0.1 - - [02/May/2024 10:08:42] \"POST /_dash-update-component HTTP/1.1\" 200 -\n"
     ]
    }
   ],
   "source": [
    "# Import packages\n",
    "from dash import Dash, html, dash_table, dcc, callback, Output, Input\n",
    "import pandas as pd\n",
    "import plotly.express as px\n",
    "\n",
    "# Incorporate data\n",
    "df = pd.read_csv('https://raw.githubusercontent.com/plotly/datasets/master/gapminder2007.csv')\n",
    "\n",
    "# Initialize the app - incorporate css\n",
    "external_stylesheets = ['https://codepen.io/chriddyp/pen/bWLwgP.css']\n",
    "app = Dash(__name__, external_stylesheets=external_stylesheets)\n",
    "\n",
    "# App layout\n",
    "app.layout = html.Div([\n",
    "    html.Div(className='row', children='My First App with Data, Graph, and Controls',\n",
    "             style={'textAlign': 'center', 'color': 'blue', 'fontSize': 30}),\n",
    "\n",
    "    html.Div(className='row', children=[\n",
    "        dcc.RadioItems(options=['pop', 'lifeExp', 'gdpPercap'],\n",
    "                       value='lifeExp',\n",
    "                       inline=True,\n",
    "                       id='my-radio-buttons-final')\n",
    "    ]),\n",
    "\n",
    "    html.Div(className='row', children=[\n",
    "        html.Div(className='six columns', children=[\n",
    "            dash_table.DataTable(data=df.to_dict('records'), page_size=11, style_table={'overflowX': 'auto'})\n",
    "        ]),\n",
    "        html.Div(className='six columns', children=[\n",
    "            dcc.Graph(figure={}, id='histo-chart-final')\n",
    "        ])\n",
    "    ])\n",
    "])\n",
    "\n",
    "# Add controls to build the interaction\n",
    "@callback(\n",
    "    Output(component_id='histo-chart-final', component_property='figure'),\n",
    "    Input(component_id='my-radio-buttons-final', component_property='value')\n",
    ")\n",
    "def update_graph(col_chosen):\n",
    "    fig = px.histogram(df, x='continent', y=col_chosen, histfunc='avg')\n",
    "    return fig\n",
    "\n",
    "# Run the app\n",
    "if __name__ == '__main__':\n",
    "    app.run(debug=False)"
   ]
  },
  {
   "cell_type": "code",
   "execution_count": null,
   "metadata": {},
   "outputs": [],
   "source": []
  }
 ],
 "metadata": {
  "kernelspec": {
   "display_name": "Python 3",
   "language": "python",
   "name": "python3"
  },
  "language_info": {
   "codemirror_mode": {
    "name": "ipython",
    "version": 3
   },
   "file_extension": ".py",
   "mimetype": "text/x-python",
   "name": "python",
   "nbconvert_exporter": "python",
   "pygments_lexer": "ipython3",
   "version": "3.9.4"
  },
  "orig_nbformat": 4,
  "vscode": {
   "interpreter": {
    "hash": "11938c6bc6919ae2720b4d5011047913343b08a43b18698fd82dedb0d4417594"
   }
  }
 },
 "nbformat": 4,
 "nbformat_minor": 2
}
